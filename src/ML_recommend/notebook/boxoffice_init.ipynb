{
 "cells": [
  {
   "cell_type": "markdown",
   "id": "64dd6766",
   "metadata": {},
   "source": [
    "#### 目標：一次性取得半年的電影票房資料\n",
    "資料來源：《全國電影票房統計資訊》https://boxofficetw.tfai.org.tw/\n"
   ]
  },
  {
   "cell_type": "code",
   "execution_count": null,
   "id": "11ecb24c",
   "metadata": {},
   "outputs": [
    {
     "name": "stdout",
     "output_type": "stream",
     "text": [
      "安裝成功\n"
     ]
    }
   ],
   "source": [
    "##### 安裝套件 #####\n",
    "import os\n",
    "import requests\n",
    "import pandas as pd\n",
    "from datetime import datetime, timedelta\n",
    "\n",
    "print(\"安裝成功\")\n"
   ]
  },
  {
   "cell_type": "code",
   "execution_count": null,
   "id": "5941e145",
   "metadata": {},
   "outputs": [],
   "source": [
    "##### 常數&參數設定 #####\n",
    "# 儲放位置\n",
    "RAW_PATH_JSON = \"data/raw/boxoffice/json/\"\n",
    "RAW_PATH_JSON = \"data/raw/boxoffice/csv/\"\n",
    "\n",
    "# 政府票房統計API（影視局）\n",
    "BASE_URL = \"https://boxofficetw.tfai.org.tw/stat/qsl?mode=Week&start=2025-10-08&ascending=false&orderedColumn=ReleaseDate&page=0&size=&region=all\"  \n",
    "# ↑ 若之後網站不同，可改成實際提供下載的 CSV URL"
   ]
  }
 ],
 "metadata": {
  "kernelspec": {
   "display_name": ".venv",
   "language": "python",
   "name": "python3"
  },
  "language_info": {
   "codemirror_mode": {
    "name": "ipython",
    "version": 3
   },
   "file_extension": ".py",
   "mimetype": "text/x-python",
   "name": "python",
   "nbconvert_exporter": "python",
   "pygments_lexer": "ipython3",
   "version": "3.13.7"
  }
 },
 "nbformat": 4,
 "nbformat_minor": 5
}
