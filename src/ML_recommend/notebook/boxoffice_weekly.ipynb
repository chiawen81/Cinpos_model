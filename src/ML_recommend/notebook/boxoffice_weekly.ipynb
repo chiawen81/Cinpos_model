{
 "cells": [
  {
   "cell_type": "markdown",
   "id": "64dd6766",
   "metadata": {},
   "source": [
    "#### 目標：取得當周電影院的票房資料，每周爬一次\n",
    "資料來源：《全國電影票房統計資訊》https://boxofficetw.tfai.org.tw/\n"
   ]
  },
  {
   "cell_type": "code",
   "execution_count": 1,
   "id": "11ecb24c",
   "metadata": {},
   "outputs": [
    {
     "name": "stdout",
     "output_type": "stream",
     "text": [
      "安裝成功\n"
     ]
    }
   ],
   "source": [
    "##### 安裝套件 #####\n",
    "import os\n",
    "import requests\n",
    "import pandas as pd\n",
    "import json\n",
    "from datetime import datetime, timedelta\n",
    "from common.date_utils import get_last_week_range\n",
    "\n",
    "print(\"安裝成功\")\n"
   ]
  },
  {
   "cell_type": "code",
   "execution_count": 3,
   "id": "5941e145",
   "metadata": {},
   "outputs": [],
   "source": [
    "##### 常數&參數設定 #####\n",
    "\n",
    "# 儲放位置\n",
    "PROJECT_ROOT = os.path.abspath(os.path.join(os.getcwd(), '../../../..'))\n",
    "RAW_PATH_JSON = os.path.join(PROJECT_ROOT, 'Cinpos_model','data', 'raw', 'boxoffice_weekly')\n",
    "\n",
    "os.makedirs(RAW_PATH_JSON, exist_ok=True)\n",
    "\n",
    "# 全國電影票房統計API- 每周電影票房\n",
    "BASE_URL = \"https://boxofficetw.tfai.org.tw/stat/qsl\"  "
   ]
  },
  {
   "cell_type": "code",
   "execution_count": 4,
   "id": "2af3bdc9",
   "metadata": {},
   "outputs": [
    {
     "name": "stdout",
     "output_type": "stream",
     "text": [
      "已儲存原始資料：c:\\Users\\User\\Desktop\\Projects\\Cinpos_model\\data\\raw\\boxoffice_weekly\\boxoffice_2025W40_0929-1005.json\n"
     ]
    },
    {
     "data": {
      "text/plain": [
       "'NOTE:\\n     Python 會在執行檔案時自動設定內建變數 __name__。\\n     若此檔案是被「直接執行」，__name__ 會等於 \"__main__\"；\\n     若此檔案是被「其他檔案 import」，__name__ 會等於模組名稱。\\n     因此這段判斷可避免：當此檔案被匯入時就自動執行主程式(fetch_boxoffice_json())\\n'"
      ]
     },
     "execution_count": 4,
     "metadata": {},
     "output_type": "execute_result"
    }
   ],
   "source": [
    "##### 取得<每周電影票房>票房 ##### \n",
    "def fetch_boxoffice_json(date_str: str= None):\n",
    "    \"\"\"\n",
    "    從官方 API 下載指定週的票房資料(JSON) 並存檔\n",
    "    \"\"\"\n",
    "\n",
    "    # 設定查詢日期\n",
    "    date_range = get_last_week_range(date_str)\n",
    "    \n",
    "    # 整理API參數\n",
    "    params = {\n",
    "        \"mode\": \"Week\",\n",
    "        \"start\": date_range['startDate'],\n",
    "        \"ascending\": \"false\",\n",
    "        \"orderedColumn\": \"ReleaseDate\",\n",
    "        \"page\": 0,\n",
    "        \"size\": \"\",  # 留空以抓全部\n",
    "        \"region\": \"all\"\n",
    "    }\n",
    "\n",
    "    # 取得每周資料\n",
    "    response = requests.get(BASE_URL, params=params)\n",
    "    response.encoding=\"utf-8\"\n",
    "    data = response.json()\n",
    "    # print(\"data\",data)\n",
    "\n",
    "    # 設定儲存的檔名\n",
    "    fileName_week = f\"{datetime.now().strftime('%Y')}W{datetime.now().strftime('%U')}\"\n",
    "    fileName_date=f\"{date_range['startDate'][-5:-3]}{date_range['startDate'][-2:]}-{date_range['endDate'][-5:-3]}{date_range['endDate'][-2:]}\"\n",
    "    file_path = os.path.join(RAW_PATH_JSON, f\"boxoffice_{fileName_week}_{fileName_date}.json\")\n",
    "\n",
    "    # 儲存成原始 JSON\n",
    "    with open(file_path, \"w\", encoding=\"utf-8\") as f:\n",
    "        json.dump(data, f, ensure_ascii=False, indent=2)\n",
    "\n",
    "    print(f\"已儲存原始資料：{file_path}\")\n",
    "\n",
    "\n",
    "# 主程式\n",
    "if __name__ == \"__main__\":\n",
    "    fetch_boxoffice_json()\n",
    "'''NOTE:\n",
    "     Python 會在執行檔案時自動設定內建變數 __name__。\n",
    "     若此檔案是被「直接執行」，__name__ 會等於 \"__main__\"；\n",
    "     若此檔案是被「其他檔案 import」，__name__ 會等於模組名稱。\n",
    "     因此這段判斷可避免：當此檔案被匯入時就自動執行主程式(fetch_boxoffice_json())\n",
    "'''\n"
   ]
  }
 ],
 "metadata": {
  "kernelspec": {
   "display_name": ".venv",
   "language": "python",
   "name": "python3"
  },
  "language_info": {
   "codemirror_mode": {
    "name": "ipython",
    "version": 3
   },
   "file_extension": ".py",
   "mimetype": "text/x-python",
   "name": "python",
   "nbconvert_exporter": "python",
   "pygments_lexer": "ipython3",
   "version": "3.13.7"
  }
 },
 "nbformat": 4,
 "nbformat_minor": 5
}
