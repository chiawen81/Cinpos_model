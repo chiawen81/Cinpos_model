{
 "cells": [
  {
   "cell_type": "markdown",
   "id": "64dd6766",
   "metadata": {},
   "source": [
    "#### 目標：取得當周電影院的票房資料，每周爬一次\n",
    "資料來源：《全國電影票房統計資訊》https://boxofficetw.tfai.org.tw/\n"
   ]
  },
  {
   "cell_type": "code",
   "execution_count": null,
   "id": "11ecb24c",
   "metadata": {},
   "outputs": [
    {
     "name": "stdout",
     "output_type": "stream",
     "text": [
      "安裝成功\n"
     ]
    }
   ],
   "source": [
    "##### 安裝套件 #####\n",
    "import os\n",
    "import requests\n",
    "import pandas as pd\n",
    "import json\n",
    "from datetime import datetime, timedelta\n",
    "\n",
    "print(\"安裝成功\")\n"
   ]
  },
  {
   "cell_type": "code",
   "execution_count": 18,
   "id": "5941e145",
   "metadata": {},
   "outputs": [],
   "source": [
    "##### 常數&參數設定 #####\n",
    "import os\n",
    "\n",
    "# 儲放位置\n",
    "PROJECT_ROOT = os.path.abspath(os.path.join(os.getcwd(), '../../../..'))\n",
    "RAW_PATH_JSON = os.path.join(PROJECT_ROOT, 'data', 'raw', 'boxoffice', 'json')\n",
    "os.makedirs(RAW_PATH_JSON, exist_ok=True)\n",
    "# PROJECT_ROOT = os.path.abspath(os.path.join(os.path.dirname(__file__), '../../../..'))\n",
    "\n",
    "# RAW_PATH_JSON = os.path.join(PROJECT_ROOT, 'data', 'raw', 'boxoffice', 'json')\n",
    "\n",
    "# os.makedirs(RAW_PATH_JSON, exist_ok=True)\n",
    "\n",
    "# RAW_PATH_JSON = \"./../../data/raw/boxoffice/json/\"\n",
    "# RAW_PATH_CSV = \"data/raw/boxoffice/csv/\"\n",
    "\n",
    "# 政府票房統計API（全國電影票房統計）\n",
    "BASE_URL = \"https://boxofficetw.tfai.org.tw/stat/qsl?mode=Week&start=&ascending=false&orderedColumn=ReleaseDate&page=0&size=&region=all\"  "
   ]
  },
  {
   "cell_type": "code",
   "execution_count": 16,
   "id": "2af3bdc9",
   "metadata": {},
   "outputs": [
    {
     "name": "stdout",
     "output_type": "stream",
     "text": [
      "RAW_PATH_JSON ./../../data/raw/boxoffice/json/\n",
      "{'startDate': '2025-09-29', 'endDate': '2025-10-05'}\n",
      "params {'mode': 'Week', 'start': '2025-09-29', 'ascending': 'false', 'orderedColumn': 'ReleaseDate', 'page': 0, 'size': '', 'region': 'all'}\n",
      "data {'data': {'page': 0, 'size': 92, 'pageCount': 1, 'dataItemCount': 92, 'fallback': False, 'start': '2025-09-29T00:00:00', 'end': '2025-10-05T00:00:00', 'dataItems': [{'movieId': '31807', 'rank': 1, 'region': '中華民國', 'name': '泥娃娃', 'releaseDate': '2025-09-28', 'publisher': '文化內容策進院##合影視有限合夥##必應創造股份有限公司##能率影業股份有限公司##阿榮影業股份有限公司##天予電影有限公司', 'dayCount': 2, 'theaterCount': 1, 'amount': 147490.0, 'amountRate': 1.55526680526681, 'tickets': 601, 'ticketRate': 1.7072072072072073, 'marketShare': 0.7302551640340219, 'totalDayCount': 2, 'totalAmount': 205210.0, 'totalTickets': 823, 'firstWeekAmount': 0.0, 'totalWeekendAmount': 57720.0}, {'movieId': '31799', 'rank': 2, 'region': '日本', 'name': '電影版 神奇柑仔店 錢天堂', 'releaseDate': '2025-09-26', 'publisher': 'TOHO CO.  LTD.', 'dayCount': 66, 'theaterCount': 4, 'amount': 889338.0, 'amountRate': -0.356199706382276, 'tickets': 3461, 'ticketRate': -0.34549924357034795, 'marketShare': 0.39558806720768086, 'totalDayCount': 66, 'totalAmount': 2270726.0, 'totalTickets': 8749, 'firstWeekAmount': 0.0, 'totalWeekendAmount': 1381388.0}, {'movieId': '31835', 'rank': 3, 'region': '美國', 'name': '沒好婚姻', 'releaseDate': '2025-09-26', 'publisher': 'BUENA VISTA INTERNATIONAL  INC.', 'dayCount': 39, 'theaterCount': 4, 'amount': 775199.0, 'amountRate': -0.161288752036734, 'tickets': 2945, 'ticketRate': -0.13229228049499117, 'marketShare': 0.46458431929326394, 'totalDayCount': 39, 'totalAmount': 1699473.0, 'totalTickets': 6339, 'firstWeekAmount': 0.0, 'totalWeekendAmount': 924274.0}, {'movieId': '31651', 'rank': 4, 'region': '美國', 'name': '永遠在一起', 'releaseDate': '2025-09-26', 'publisher': 'GEM ENTERAINMENT KFT.', 'dayCount': 59, 'theaterCount': 4, 'amount': 675449.0, 'amountRate': -0.319447537080567, 'tickets': 2598, 'ticketRate': -0.3202511773940345, 'marketShare': 0.4046728971962617, 'totalDayCount': 59, 'totalAmount': 1667950.0, 'totalTickets': 6420, 'firstWeekAmount': 0.0, 'totalWeekendAmount': 992501.0}, {'movieId': '31809', 'rank': 5, 'region': '美國', 'name': '疾速營救', 'releaseDate': '2025-09-26', 'publisher': 'Voltage Pictures  LLC.', 'dayCount': 48, 'theaterCount': 4, 'amount': 454913.0, 'amountRate': -0.229405088593014, 'tickets': 1865, 'ticketRate': -0.23282599753187988, 'marketShare': 0.4341247672253259, 'totalDayCount': 48, 'totalAmount': 1045253.0, 'totalTickets': 4296, 'firstWeekAmount': 0.0, 'totalWeekendAmount': 590340.0}, {'movieId': '31745', 'rank': 6, 'region': '印尼', 'name': '血怨', 'releaseDate': '2025-09-26', 'publisher': 'EST N8 LLC', 'dayCount': 48, 'theaterCount': 4, 'amount': 406550.0, 'amountRate': -0.270948027587592, 'tickets': 1538, 'ticketRate': -0.25736359246740703, 'marketShare': 0.42615683014685507, 'totalDayCount': 48, 'totalAmount': 964192.0, 'totalTickets': 3609, 'firstWeekAmount': 0.0, 'totalWeekendAmount': 557642.0}, {'movieId': '31662', 'rank': 7, 'region': '泰國', 'name': '淒厲人師', 'releaseDate': '2025-09-26', 'publisher': 'M DISTRIBUTION CO. LTD.', 'dayCount': 16, 'theaterCount': 4, 'amount': 69608.0, 'amountRate': -0.303439373167486, 'tickets': 285, 'ticketRate': -0.2875, 'marketShare': 0.41605839416058393, 'totalDayCount': 16, 'totalAmount': 169539.0, 'totalTickets': 685, 'firstWeekAmount': 0.0, 'totalWeekendAmount': 99931.0}, {'movieId': '31905', 'rank': 8, 'region': '美國', 'name': 'Kygo: Back at the Bowl', 'releaseDate': '2025-09-26', 'publisher': 'CJ 4DPLEX', 'dayCount': 2, 'theaterCount': 1, 'amount': 54645.0, 'amountRate': -0.370920393714384, 'tickets': 80, 'ticketRate': -0.3548387096774194, 'marketShare': 0.39215686274509803, 'totalDayCount': 2, 'totalAmount': 141510.0, 'totalTickets': 204, 'firstWeekAmount': 0.0, 'totalWeekendAmount': 86865.0}, {'movieId': '31762', 'rank': 9, 'region': '法國', 'name': '約見波布', 'releaseDate': '2025-09-26', 'publisher': '一條龍虎豹國際娛樂有限公司', 'dayCount': 13, 'theaterCount': 4, 'amount': 41718.0, 'amountRate': -0.115431915525211, 'tickets': 194, 'ticketRate': -0.1141552511415525, 'marketShare': 0.46973365617433416, 'totalDayCount': 13, 'totalAmount': 88880.0, 'totalTickets': 413, 'firstWeekAmount': 0.0, 'totalWeekendAmount': 47162.0}, {'movieId': '31797', 'rank': 10, 'region': '美國', 'name': '一戰再戰', 'releaseDate': '2025-09-25', 'publisher': 'WARNER BROS. PICTURES INTERNATIONAL.', 'dayCount': 83, 'theaterCount': 4, 'amount': 5069375.0, 'amountRate': -0.458000903657031, 'tickets': 16819, 'ticketRate': -0.4451738470673616, 'marketShare': 0.35684127893408013, 'totalDayCount': 83, 'totalAmount': 14422481.0, 'totalTickets': 47133, 'firstWeekAmount': 764287.0, 'totalWeekendAmount': 7748192.0}, {'movieId': '27106', 'rank': 11, 'region': '中華民國', 'name': '河鰻', 'releaseDate': '2025-09-25', 'publisher': '底噪影像有限公司##滿滿額娛樂股份有限公司##內容物數位電影製作有限公司##彥恩國際經紀事業股份有限公司##文化內容策進院', 'dayCount': 1, 'theaterCount': 1, 'amount': 312820.0, 'amountRate': 1.70839826839827, 'tickets': 999, 'ticketRate': 2.0272727272727273, 'marketShare': 0.7516930022573364, 'totalDayCount': 1, 'totalAmount': 428320.0, 'totalTickets': 1329, 'firstWeekAmount': 229130.0, 'totalWeekendAmount': 0.0}, {'movieId': '31862', 'rank': 12, 'region': '韓國', 'name': 'CHA EUN-WOO：MEMORIES IN CINEMAS', 'releaseDate': '2025-09-24', 'publisher': 'CJ 4DPLEX Co.  Ltd.', 'dayCount': 6, 'theaterCount': 4, 'amount': 113600.0, 'amountRate': -0.602261785970625, 'tickets': 288, 'ticketRate': -0.5758468335787923, 'marketShare': 0.29782833505687695, 'totalDayCount': 6, 'totalAmount': 399215.0, 'totalTickets': 967, 'firstWeekAmount': 43250.0, 'totalWeekendAmount': 209165.0}, {'movieId': '31704', 'rank': 13, 'region': '中華民國', 'name': '陌路兄弟', 'releaseDate': '2025-09-24', 'publisher': '綺影映畫有限公司##REC Production', 'dayCount': 11, 'theaterCount': 4, 'amount': 41088.0, 'amountRate': -0.674527293034751, 'tickets': 176, 'ticketRate': -0.7001703577512777, 'marketShare': 0.2306684141546527, 'totalDayCount': 11, 'totalAmount': 167329.0, 'totalTickets': 763, 'firstWeekAmount': 14665.0, 'totalWeekendAmount': 65971.0}, {'movieId': '31796', 'rank': 14, 'region': '捷克', 'name': '傲嬌公主的奇幻冒險', 'releaseDate': '2025-09-20', 'publisher': 'ALL RIGHTS ENTERTAINMENT SAS', 'dayCount': 29, 'theaterCount': 4, 'amount': 249306.0, 'amountRate': -0.336426210134628, 'tickets': 1022, 'ticketRate': -0.3302752293577982, 'marketShare': 0.39067278287461776, 'totalDayCount': 29, 'totalAmount': 644728.0, 'totalTickets': 2616, 'firstWeekAmount': 608004.0, 'totalWeekendAmount': 395422.0}, {'movieId': '31767', 'rank': 15, 'region': '韓國', 'name': '醜得要命', 'releaseDate': '2025-09-20', 'publisher': 'Plus M Entertainment \\t  \\t ', 'dayCount': 23, 'theaterCount': 4, 'amount': 149318.0, 'amountRate': -0.302050126672213, 'tickets': 641, 'ticketRate': -0.2707622298065984, 'marketShare': 0.34989082969432317, 'totalDayCount': 23, 'totalAmount': 458236.0, 'totalTickets': 1832, 'firstWeekAmount': 328671.0, 'totalWeekendAmount': 308918.0}, {'movieId': '31794', 'rank': 16, 'region': '日本', 'name': '劇場版『鏈鋸人 蕾潔篇』', 'releaseDate': '2025-09-19', 'publisher': 'SONY PICTURES RELEASING INTERNATIONAL CORPORATION.', 'dayCount': 93, 'theaterCount': 4, 'amount': 25248533.0, 'amountRate': -0.489466082533402, 'tickets': 82271, 'ticketRate': -0.48744961467295483, 'marketShare': 0.3383201398170042, 'totalDayCount': 93, 'totalAmount': 74840536.0, 'totalTickets': 243175, 'firstWeekAmount': 60542266.0, 'totalWeekendAmount': 35430583.0}, {'movieId': '31836', 'rank': 17, 'region': '日本', 'name': '8號出口', 'releaseDate': '2025-09-19', 'publisher': 'TOHO', 'dayCount': 54, 'theaterCount': 4, 'amount': 1324449.0, 'amountRate': -0.623185416415352, 'tickets': 4727, 'ticketRate': -0.6151904916965157, 'marketShare': 0.15729925792818875, 'totalDayCount': 54, 'totalAmount': 8758445.0, 'totalTickets': 30051, 'firstWeekAmount': 3447934.0, 'totalWeekendAmount': 6042625.0}, {'movieId': '31801', 'rank': 18, 'region': '印尼', 'name': '鬼祭', 'releaseDate': '2025-09-19', 'publisher': 'Atrium Productions Kft.', 'dayCount': 13, 'theaterCount': 4, 'amount': 60223.0, 'amountRate': -0.822182131700317, 'tickets': 230, 'ticketRate': -0.8212898212898213, 'marketShare': 0.06595927731574419, 'totalDayCount': 13, 'totalAmount': 918618.0, 'totalTickets': 3487, 'firstWeekAmount': 151335.0, 'totalWeekendAmount': 610829.0}, {'movieId': '31191', 'rank': 19, 'region': '韓國', 'name': '病毒', 'releaseDate': '2025-09-19', 'publisher': 'Contents Panda', 'dayCount': 15, 'theaterCount': 2, 'amount': 28215.0, 'amountRate': -0.89364108247481, 'tickets': 124, 'ticketRate': -0.8862385321100917, 'marketShare': 0.03867747972551466, 'totalDayCount': 15, 'totalAmount': 782915.0, 'totalTickets': 3206, 'firstWeekAmount': 58593.0, 'totalWeekendAmount': 519797.0}, {'movieId': '31713', 'rank': 20, 'region': '日本', 'name': '捏造：史上最惡殺人教師', 'releaseDate': '2025-09-19', 'publisher': 'TOEI COMPANY  LTD.\\t  ', 'dayCount': 14, 'theaterCount': 4, 'amount': 74946.0, 'amountRate': -0.689381631299735, 'tickets': 302, 'ticketRate': -0.6924643584521385, 'marketShare': 0.117601246105919, 'totalDayCount': 14, 'totalAmount': 640634.0, 'totalTickets': 2568, 'firstWeekAmount': 139745.0, 'totalWeekendAmount': 389207.0}, {'movieId': '31714', 'rank': 21, 'region': '西班牙', 'name': '鋼琴之子', 'releaseDate': '2025-09-19', 'publisher': 'FILM FACTORY ENTERTAINMENT##S.L.', 'dayCount': 3, 'theaterCount': 2, 'amount': 13260.0, 'amountRate': -0.835555279965276, 'tickets': 62, 'ticketRate': -0.8364116094986808, 'marketShare': 0.08695652173913043, 'totalDayCount': 3, 'totalAmount': 153960.0, 'totalTickets': 713, 'firstWeekAmount': 44690.0, 'totalWeekendAmount': 91495.0}, {'movieId': '31670', 'rank': 22, 'region': '馬來西亞', 'name': '搖籃凡世', 'releaseDate': '2025-09-19', 'publisher': ' 匠子映畫製作有限公司', 'dayCount': 3, 'theaterCount': 3, 'amount': 25680.0, 'amountRate': -0.0483602001111729, 'tickets': 103, 'ticketRate': -0.10434782608695652, 'marketShare': 0.2288888888888889, 'totalDayCount': 3, 'totalAmount': 104726.0, 'totalTickets': 450, 'firstWeekAmount': 28600.0, 'totalWeekendAmount': 54981.0}, {'movieId': '31805', 'rank': 23, 'region': '挪威', 'name': '阿蒙怎麼了？', 'releaseDate': '2025-09-19', 'publisher': 'Charades S.A.S', 'dayCount': 5, 'theaterCount': 2, 'amount': 12345.0, 'amountRate': -0.705650929899857, 'tickets': 60, 'ticketRate': -0.6825396825396826, 'marketShare': 0.13544018058690746, 'totalDayCount': 5, 'totalAmount': 100388.0, 'totalTickets': 443, 'firstWeekAmount': 21680.0, 'totalWeekendAmount': 55438.0}, {'movieId': '31541', 'rank': 24, 'region': '中國大陸', 'name': '熱烈', 'releaseDate': '2025-09-13', 'publisher': '儒意影業（杭州）有限公司##上海他城影業有限公司##上海淘票票影視文化有限公司##中國電影股份有限公司##上海瀚納影視文化傳媒有限公司##浙江橫店影業有限公司##萬達電影股份有限公司##天津貓眼微影文化傳媒有限公司##上海儒意影視製作有限公司##杭州中交文化發展有限公司##深圳市匯文控股有限公司##優酷信息技術（北京）有限公司##福建省中視傳播有限公司##浙江峰行天下影視文化傳媒有限公司##華數傳媒網絡有限公司##杭州佳平影業有限公司##上海有麼字影業有限公司##補拙影視傳媒（內蒙古）有限公司##浙江影視（集團）有限公司##中引文化傳媒（武漢）有限公司##北京粒粒橙傳媒有限公司##初心文化有限公司##方特影業投資有限公司##北京微夢創科網絡技術有限公司##抖音文化（廈門）有限公司', 'dayCount': 7, 'theaterCount': 4, 'amount': 316583.0, 'amountRate': -0.585908897681567, 'tickets': 1222, 'ticketRate': -0.5934797072521624, 'marketShare': 0.21954725116780452, 'totalDayCount': 7, 'totalAmount': 1405788.0, 'totalTickets': 5566, 'firstWeekAmount': 200896.0, 'totalWeekendAmount': 1089205.0}, {'movieId': '29378', 'rank': 25, 'region': '中華民國', 'name': '我家的事', 'releaseDate': '2025-09-12', 'publisher': '大慕可可股份有限公司##文化內容策進院##酷映有影工作室有限公司', 'dayCount': 46, 'theaterCount': 3, 'amount': 550766.0, 'amountRate': -0.638333024702302, 'tickets': 2149, 'ticketRate': -0.6384589502018843, 'marketShare': 0.06795042054006198, 'totalDayCount': 50, 'totalAmount': 8208142.0, 'totalTickets': 31626, 'firstWeekAmount': 2601138.0, 'totalWeekendAmount': 5059628.0}, {'movieId': '31769', 'rank': 26, 'region': '美國', 'name': '大競走', 'releaseDate': '2025-09-12', 'publisher': 'Lions Gate International (UK) Limited', 'dayCount': 7, 'theaterCount': 3, 'amount': 155937.0, 'amountRate': -0.73860765753156, 'tickets': 696, 'ticketRate': -0.7291828793774319, 'marketShare': 0.03722124177763517, 'totalDayCount': 7, 'totalAmount': 4671797.0, 'totalTickets': 18699, 'firstWeekAmount': 1108232.0, 'totalWeekendAmount': 3161216.0}, {'movieId': '31523', 'rank': 27, 'region': '英國', 'name': '樂來越愛你', 'releaseDate': '2025-09-12', 'publisher': 'LIONS GATE INTERNATIONAL(UK) LIMITED', 'dayCount': 6, 'theaterCount': 4, 'amount': 117566.0, 'amountRate': -0.759156147186679, 'tickets': 397, 'ticketRate': -0.7324797843665768, 'marketShare': 0.03030997098793709, 'totalDayCount': 6, 'totalAmount': 4650931.0, 'totalTickets': 13098, 'firstWeekAmount': 1069226.0, 'totalWeekendAmount': 3209691.0}, {'movieId': '31760', 'rank': 28, 'region': '美國', 'name': '鬼巫', 'releaseDate': '2025-09-12', 'publisher': 'Highland Sales  LLC', 'dayCount': 3, 'theaterCount': 4, 'amount': 3590.0, 'amountRate': -0.895787976428924, 'tickets': 17, 'ticketRate': -0.89375, 'marketShare': 0.003663003663003663, 'totalDayCount': 3, 'totalAmount': 1158539.0, 'totalTickets': 4641, 'firstWeekAmount': 119456.0, 'totalWeekendAmount': 741886.0}, {'movieId': '31750', 'rank': 29, 'region': '美國', 'name': '月光下的藍色男孩', 'releaseDate': '2025-09-12', 'publisher': 'A24 INTERNATIONAL LLC', 'dayCount': 1, 'theaterCount': 1, 'amount': 2410.0, 'amountRate': -0.707311148894826, 'tickets': 10, 'ticketRate': -0.7297297297297297, 'marketShare': 0.008873114463176575, 'totalDayCount': 1, 'totalAmount': 277417.0, 'totalTickets': 1127, 'firstWeekAmount': 20976.0, 'totalWeekendAmount': 162849.0}, {'movieId': '31234', 'rank': 30, 'region': '法國', 'name': '妮基的重生', 'releaseDate': '2025-09-12', 'publisher': 'PULSAR CONTENT SAS', 'dayCount': 1, 'theaterCount': 1, 'amount': 1600.0, 'amountRate': -0.862483884830254, 'tickets': 5, 'ticketRate': -0.9152542372881356, 'marketShare': 0.007564296520423601, 'totalDayCount': 1, 'totalAmount': 142519.0, 'totalTickets': 661, 'firstWeekAmount': 19900.0, 'totalWeekendAmount': 82029.0}, {'movieId': '31671', 'rank': 31, 'region': '英國', 'name': '愛裡行間', 'releaseDate': '2025-09-12', 'publisher': 'CORNERSTONE FILMS LTD', 'dayCount': 1, 'theaterCount': 1, 'amount': 440.0, 'amountRate': -0.930544593528019, 'tickets': 2, 'ticketRate': -0.9411764705882353, 'marketShare': 0.003616636528028933, 'totalDayCount': 1, 'totalAmount': 119245.0, 'totalTickets': 553, 'firstWeekAmount': 12335.0, 'totalWeekendAmount': 72480.0}, {'movieId': '29380', 'rank': 32, 'region': '中華民國', 'name': '失明', 'releaseDate': '2025-09-11', 'publisher': '昕璟娛樂股份有限公司##輯潛資本投資股份有限公司##周子娛樂有限公司##文化內容策進院', 'dayCount': 38, 'theaterCount': 4, 'amount': 272518.0, 'amountRate': -0.657883107948639, 'tickets': 1078, 'ticketRate': -0.6602584305074063, 'marketShare': 0.10898796886058032, 'totalDayCount': 53, 'totalAmount': 2568665.0, 'totalTickets': 9891, 'firstWeekAmount': 1598767.0, 'totalWeekendAmount': 1509308.0}, {'movieId': '31654', 'rank': 33, 'region': '日本', 'name': '電影版小林家的龍女僕：害怕寂寞的龍', 'releaseDate': '2025-09-09', 'publisher': 'ABC ANIMATION  INC.', 'dayCount': 33, 'theaterCount': 4, 'amount': 494268.0, 'amountRate': -0.56637642507161, 'tickets': 1809, 'ticketRate': -0.5650396729983169, 'marketShare': 0.0735126788036411, 'totalDayCount': 37, 'totalAmount': 6799496.0, 'totalTickets': 24608, 'firstWeekAmount': 1939403.0, 'totalWeekendAmount': 4897918.0}, {'movieId': '31531', 'rank': 34, 'region': '中華民國', 'name': '詭鄉', 'releaseDate': '2025-09-06', 'publisher': '一群獨角鯨娛樂股份有限公司', 'dayCount': 42, 'theaterCount': 4, 'amount': 339879.0, 'amountRate': -0.679931330245768, 'tickets': 1234, 'ticketRate': -0.6944788313939094, 'marketShare': 0.10618707512262283, 'totalDayCount': 42, 'totalAmount': 3075252.0, 'totalTickets': 11621, 'firstWeekAmount': 519546.0, 'totalWeekendAmount': 2202574.0}, {'movieId': '31701', 'rank': 35, 'region': '日本', 'name': '麵包超人電影版：小水滴的英雄！', 'releaseDate': '2025-09-06', 'publisher': 'TMS ENTERTAINMENT CO.  LTD.', 'dayCount': 11, 'theaterCount': 4, 'amount': 90013.0, 'amountRate': -0.24742699005911, 'tickets': 343, 'ticketRate': -0.2670940170940171, 'marketShare': 0.0718475073313783, 'totalDayCount': 11, 'totalAmount': 1252127.0, 'totalTickets': 4774, 'firstWeekAmount': 651483.0, 'totalWeekendAmount': 983687.0}, {'movieId': '27899', 'rank': 36, 'region': '中華民國', 'name': '96分鐘', 'releaseDate': '2025-09-05', 'publisher': '華影國際影藝有限公司##前景娛樂有限公司##文化內容策進院##識富社會企業股份有限公司 (識富天使會)##米珞安影業製作有限公司##台北市電影委員會 (財團法人台北市文化基金會)##夢想創造股份有限公司##瑞德國際股份有限公司##龍英投資有限公司##聯合數位文創股份有限公司##麻吉砥加電影股份有限公司##臺中市影視協拍 (財團法人臺中市影視發展基金會)##星環資產有限公司', 'dayCount': 93, 'theaterCount': 4, 'amount': 13775791.0, 'amountRate': -0.588824273585245, 'tickets': 49831, 'ticketRate': -0.5841213142938216, 'marketShare': 0.09568219478990854, 'totalDayCount': 93, 'totalAmount': 143921309.0, 'totalTickets': 520797, 'firstWeekAmount': 40196249.0, 'totalWeekendAmount': 87556648.0}, {'movieId': '31685', 'rank': 37, 'region': '日本', 'name': '劇場版 咒術迴戰 懷玉・玉折', 'releaseDate': '2025-09-05', 'publisher': 'Toho Co.  Ltd.', 'dayCount': 72, 'theaterCount': 4, 'amount': 1383240.0, 'amountRate': -0.569357925381401, 'tickets': 4583, 'ticketRate': -0.5691049266641595, 'marketShare': 0.046790133540245846, 'totalDayCount': 73, 'totalAmount': 28404054.0, 'totalTickets': 97948, 'firstWeekAmount': 8239607.0, 'totalWeekendAmount': 20740495.0}, {'movieId': '31712', 'rank': 38, 'region': '日本', 'name': '劇場版 歌之☆王子殿下♪ TABOO NIGHT XXXX with Double Encore (QUARTET NIGHT version)', 'releaseDate': '2025-09-05', 'publisher': 'KING RECORD CO.  LTD.', 'dayCount': 9, 'theaterCount': 4, 'amount': 87647.0, 'amountRate': -0.705863796685024, 'tickets': 323, 'ticketRate': -0.7149161518093556, 'marketShare': 0.04724294281117449, 'totalDayCount': 9, 'totalAmount': 1825655.0, 'totalTickets': 6837, 'firstWeekAmount': 948227.0, 'totalWeekendAmount': 847538.0}, {'movieId': '31158', 'rank': 39, 'region': '韓國', 'name': '黑白線人', 'releaseDate': '2025-09-05', 'publisher': 'MegaboxJoongang Ine', 'dayCount': 1, 'theaterCount': 2, 'amount': 1200.0, 'amountRate': -0.925456578456951, 'tickets': 5, 'ticketRate': -0.9242424242424242, 'marketShare': 0.0011674060238150829, 'totalDayCount': 1, 'totalAmount': 1128571.0, 'totalTickets': 4283, 'firstWeekAmount': 285427.0, 'totalWeekendAmount': 672473.0}, {'movieId': '31502', 'rank': 40, 'region': '美國', 'name': '怪奇寶貝', 'releaseDate': '2025-09-05', 'publisher': 'Angel Studios  Inc.', 'dayCount': 1, 'theaterCount': 4, 'amount': 400.0, 'amountRate': -0.646017699115044, 'tickets': 2, 'ticketRate': -0.6666666666666666, 'marketShare': 0.0007390983000739098, 'totalDayCount': 1, 'totalAmount': 683043.0, 'totalTickets': 2706, 'firstWeekAmount': 87526.0, 'totalWeekendAmount': 468421.0}, {'movieId': '31686', 'rank': 41, 'region': '法國', 'name': '陽台上的壞女孩', 'releaseDate': '2025-09-05', 'publisher': 'MK2 Films', 'dayCount': 1, 'theaterCount': 1, 'amount': 211809.0, 'amountRate': 134.775, 'tickets': 596, 'ticketRate': 84.14285714285714, 'marketShare': 0.3944407677035076, 'totalDayCount': 1, 'totalAmount': 422666.0, 'totalTickets': 1511, 'firstWeekAmount': 33315.0, 'totalWeekendAmount': 107360.0}, {'movieId': '31305', 'rank': 42, 'region': '德國', 'name': '世紀編舞大師', 'releaseDate': '2025-09-05', 'publisher': 'Beta Film GmbH', 'dayCount': 1, 'theaterCount': 1, 'amount': 4830.0, 'amountRate': -0.787971905179982, 'tickets': 23, 'ticketRate': -0.7870370370370371, 'marketShare': 0.020739404869251576, 'totalDayCount': 1, 'totalAmount': 231826.0, 'totalTickets': 1109, 'firstWeekAmount': 69462.0, 'totalWeekendAmount': 122299.0}, {'movieId': '31715', 'rank': 43, 'region': '日本', 'name': '致我所愛之人', 'releaseDate': '2025-09-05', 'publisher': '日活株式會社(NIKKATSU CORPORATION)', 'dayCount': 1, 'theaterCount': 4, 'amount': 11430.0, 'amountRate': -0.570462232243517, 'tickets': 48, 'ticketRate': -0.5752212389380531, 'marketShare': 0.0679886685552408, 'totalDayCount': 1, 'totalAmount': 160454.0, 'totalTickets': 706, 'firstWeekAmount': 30190.0, 'totalWeekendAmount': 102574.0}, {'movieId': '31596', 'rank': 44, 'region': '美國', 'name': '厲陰宅：最終聖事', 'releaseDate': '2025-09-03', 'publisher': 'WARNER BROS. PICTURES INTERNATIONAL.', 'dayCount': 78, 'theaterCount': 4, 'amount': 1562311.0, 'amountRate': -0.68986720740518, 'tickets': 5491, 'ticketRate': -0.6904211535208885, 'marketShare': 0.027662886592744476, 'totalDayCount': 83, 'totalAmount': 58407232.0, 'totalTickets': 198497, 'firstWeekAmount': 17816713.0, 'totalWeekendAmount': 36140532.0}, {'movieId': '31520', 'rank': 45, 'region': '日本', 'name': '龍之心-靈界探訪記-', 'releaseDate': '2025-08-30', 'publisher': '幸福の科学出版', 'dayCount': 19, 'theaterCount': 4, 'amount': 489935.0, 'amountRate': -0.383927168015291, 'tickets': 2161, 'ticketRate': -0.3832762557077626, 'marketShare': 0.11301710161602427, 'totalDayCount': 19, 'totalAmount': 4334883.0, 'totalTickets': 19121, 'firstWeekAmount': 430089.0, 'totalWeekendAmount': 2755288.0}, {'movieId': '29882', 'rank': 46, 'region': '中華民國', 'name': '進行曲', 'releaseDate': '2025-08-29', 'publisher': '未來進行曲股份有限公司##文化內容策進院##中華電信股份有限公司##滾石國際音樂股份有限公司##華映娛樂股份有限公司##台亞半導體股份有限公司##財團法人台亞醫療公益基金會', 'dayCount': 13, 'theaterCount': 4, 'amount': 340445.0, 'amountRate': -0.52370592868565, 'tickets': 1355, 'ticketRate': -0.535958904109589, 'marketShare': 0.02989058501720639, 'totalDayCount': 2, 'totalAmount': 11437484.0, 'totalTickets': 45332, 'firstWeekAmount': 2319327.0, 'totalWeekendAmount': 8090865.0}, {'movieId': '31308', 'rank': 47, 'region': '韓國', 'name': '噪音殺機', 'releaseDate': '2025-08-29', 'publisher': 'FINECUT CO.  LTD.', 'dayCount': 1, 'theaterCount': 2, 'amount': 1420.0, 'amountRate': -0.52027027027027, 'tickets': 6, 'ticketRate': -0.5, 'marketShare': 0.001955671447196871, 'totalDayCount': 1, 'totalAmount': 787034.0, 'totalTickets': 3068, 'firstWeekAmount': 52073.0, 'totalWeekendAmount': 549127.0}, {'movieId': '31394', 'rank': 48, 'region': '丹麥', 'name': '失控夜班', 'releaseDate': '2025-08-29', 'publisher': 'TRUSTNORDISK APS', 'dayCount': 1, 'theaterCount': 2, 'amount': 880.0, 'amountRate': -0.965285996055227, 'tickets': 4, 'ticketRate': -0.967741935483871, 'marketShare': 0.001671541997492687, 'totalDayCount': 1, 'totalAmount': 546372.0, 'totalTickets': 2393, 'firstWeekAmount': 120720.0, 'totalWeekendAmount': 328172.0}, {'movieId': '31570', 'rank': 49, 'region': '香港', 'name': '無名指', 'releaseDate': '2025-08-27', 'publisher': '無限動力實業有限公司##尚乘數字媒體有限公司##四川大路影業有限公司##廣東昇格傳媒股份有限公司', 'dayCount': 14, 'theaterCount': 3, 'amount': 27010.0, 'amountRate': -0.890503699199351, 'tickets': 110, 'ticketRate': -0.8921568627450981, 'marketShare': 0.028241335044929396, 'totalDayCount': 14, 'totalAmount': 925627.0, 'totalTickets': 3895, 'firstWeekAmount': 59840.0, 'totalWeekendAmount': 564760.0}, {'movieId': '31668', 'rank': 50, 'region': '中華民國', 'name': '突破:三千米的泳氣', 'releaseDate': '2025-08-26', 'publisher': '威剛科技股份有限公司##忠興織造廠股份有限公司##泳氣電影全媒體有限公司##呷尚寶興業股份有限公司##新東陽股份有限公司##精英開發有限公司##劇糖文創娛樂股份有限公司##中華全球護眼公益協會##日月潭力麗溫德姆溫泉酒店', 'dayCount': 3, 'theaterCount': 1, 'amount': 764420.0, 'amountRate': -0.0112147356711379, 'tickets': 3087, 'ticketRate': -0.06141684402553968, 'marketShare': 0.22097351467430207, 'totalDayCount': 3, 'totalAmount': 3324830.0, 'totalTickets': 13970, 'firstWeekAmount': 300280.0, 'totalWeekendAmount': 1823800.0}, {'movieId': '31402', 'rank': 51, 'region': '美國', 'name': '天作之合', 'releaseDate': '2025-08-23', 'publisher': 'SONY PICTURES RELEASING INTERNATIONAL CORPORATION.', 'dayCount': 9, 'theaterCount': 4, 'amount': 133750.0, 'amountRate': -0.704799572704279, 'tickets': 471, 'ticketRate': -0.7011421319796954, 'marketShare': 0.010442069791158604, 'totalDayCount': 86, 'totalAmount': 12469778.0, 'totalTickets': 45106, 'firstWeekAmount': 5433059.0, 'totalWeekendAmount': 8019236.0}, {'movieId': '31563', 'rank': 52, 'region': '日本', 'name': '戰疫前線', 'releaseDate': '2025-08-23', 'publisher': 'KINO FILMS CO.  LTD.', 'dayCount': 1, 'theaterCount': 2, 'amount': 4320.0, 'amountRate': -0.96916708300621, 'tickets': 16, 'ticketRate': -0.969639468690702, 'marketShare': 0.0047875523638539795, 'totalDayCount': 1, 'totalAmount': 873697.0, 'totalTickets': 3342, 'firstWeekAmount': 397038.0, 'totalWeekendAmount': 550693.0}, {'movieId': '31355', 'rank': 53, 'region': '日本', 'name': '電影蠟筆小新：超華麗！灼熱的春日部舞者們', 'releaseDate': '2025-08-22', 'publisher': 'ADK EMOTIONS INC. ', 'dayCount': 42, 'theaterCount': 4, 'amount': 709472.0, 'amountRate': -0.417076591517657, 'tickets': 2817, 'ticketRate': -0.418095434827515, 'marketShare': 0.015184346701164295, 'totalDayCount': 86, 'totalAmount': 49091406.0, 'totalTickets': 185520, 'firstWeekAmount': 12109011.0, 'totalWeekendAmount': 34432108.0}, {'movieId': '31559', 'rank': 54, 'region': '美國', 'name': '脫線神探', 'releaseDate': '2025-08-22', 'publisher': 'PARAMOUNT PICTURES CORPORATION', 'dayCount': 1, 'theaterCount': 2, 'amount': 5412.0, 'amountRate': -0.477101449275362, 'tickets': 18, 'ticketRate': -0.5384615384615384, 'marketShare': 0.000552808574675225, 'totalDayCount': 83, 'totalAmount': 8571620.0, 'totalTickets': 32561, 'firstWeekAmount': 1939461.0, 'totalWeekendAmount': 5701460.0}, {'movieId': '31301', 'rank': 55, 'region': '中華民國', 'name': '我在荒野做了一場夢', 'releaseDate': '2025-08-22', 'publisher': '七日印象電影有限公司##牽猴子股份有限公司', 'dayCount': 3, 'theaterCount': 2, 'amount': 99035.0, 'amountRate': -0.690552371905836, 'tickets': 445, 'ticketRate': -0.667910447761194, 'marketShare': 0.03595088059460333, 'totalDayCount': 3, 'totalAmount': 3019693.0, 'totalTickets': 12378, 'firstWeekAmount': 411714.0, 'totalWeekendAmount': 1627709.0}, {'movieId': '31547', 'rank': 56, 'region': '美國', 'name': '辣媽辣妹2', 'releaseDate': '2025-08-18', 'publisher': 'BUENA VISTA INTERNATIONAL  INC.', 'dayCount': 1, 'theaterCount': 3, 'amount': 5379.0, 'amountRate': -0.931667471226403, 'tickets': 21, 'ticketRate': -0.932258064516129, 'marketShare': 0.000593538905062039, 'totalDayCount': 1, 'totalAmount': 9569494.0, 'totalTickets': 35381, 'firstWeekAmount': 3705833.0, 'totalWeekendAmount': 5692770.0}, {'movieId': '31507', 'rank': 57, 'region': '日本', 'name': '一兆$遊戲\\u3000劇場版', 'releaseDate': '2025-08-15', 'publisher': 'TOKYO BROADCATING SYSTEM TELEVISION INC.', 'dayCount': 1, 'theaterCount': 2, 'amount': 1570.0, 'amountRate': -0.0542168674698795, 'tickets': 5, 'ticketRate': -0.2857142857142857, 'marketShare': 0.0008060615831049493, 'totalDayCount': 1, 'totalAmount': 1570888.0, 'totalTickets': 6203, 'firstWeekAmount': 320765.0, 'totalWeekendAmount': 1058917.0}, {'movieId': '31474', 'rank': 58, 'region': '中華民國', 'name': '角頭－鬥陣欸', 'releaseDate': '2025-08-08', 'publisher': '曼尼娛樂投資股份有限公司##影一製作所股份有限公司##浪凡網路科技股份有限公司##風度國際股份有限公司', 'dayCount': 71, 'theaterCount': 4, 'amount': 856300.0, 'amountRate': -0.702997220389728, 'tickets': 3209, 'ticketRate': -0.6978058197570393, 'marketShare': 0.00469950412835841, 'totalDayCount': 1, 'totalAmount': 187050389.0, 'totalTickets': 682838, 'firstWeekAmount': 18908678.0, 'totalWeekendAmount': 109277771.0}, {'movieId': '31364', 'rank': 59, 'region': '美國', 'name': '凶器', 'releaseDate': '2025-08-08', 'publisher': 'WARNER BROS. PICTURES INTERNATIONAL.', 'dayCount': 2, 'theaterCount': 4, 'amount': 10692.0, 'amountRate': -0.632880098887515, 'tickets': 41, 'ticketRate': -0.6095238095238096, 'marketShare': 0.0004536452051914715, 'totalDayCount': 82, 'totalAmount': 25126338.0, 'totalTickets': 90379, 'firstWeekAmount': 12179166.0, 'totalWeekendAmount': 14788025.0}, {'movieId': '31365', 'rank': 60, 'region': '日本', 'name': '劇場版「鬼滅之刃」無限城篇 第一章 猗窩座再襲', 'releaseDate': '2025-08-06', 'publisher': 'Aniplex Inc.', 'dayCount': 91, 'theaterCount': 4, 'amount': 6781251.0, 'amountRate': -0.60476137382216, 'tickets': 21864, 'ticketRate': -0.5966646989374262, 'marketShare': 0.008813168802575587, 'totalDayCount': 98, 'totalAmount': 796069839.0, 'totalTickets': 2480833, 'firstWeekAmount': 208475591.0, 'totalWeekendAmount': 499535532.0}, {'movieId': '31201', 'rank': 61, 'region': '美國', 'name': '壞蛋聯盟 2', 'releaseDate': '2025-07-26', 'publisher': 'UNIVERSAL INTERNATIONAL FILMS LLC', 'dayCount': 1, 'theaterCount': 1, 'amount': 1100.0, 'amountRate': -0.978991596638656, 'tickets': 4, 'ticketRate': -0.981042654028436, 'marketShare': 5.920926032831535e-05, 'totalDayCount': 76, 'totalAmount': 17397842.0, 'totalTickets': 67557, 'firstWeekAmount': 7150610.0, 'totalWeekendAmount': 11085239.0}, {'movieId': '31329', 'rank': 62, 'region': '韓國', 'name': '全知讀者視角', 'releaseDate': '2025-07-21', 'publisher': 'Smilegate Holdings  Inc', 'dayCount': 1, 'theaterCount': 3, 'amount': 2040.0, 'amountRate': -0.768181818181818, 'tickets': 8, 'ticketRate': -0.7575757575757576, 'marketShare': 2.80982737123088e-05, 'totalDayCount': 87, 'totalAmount': 78311072.0, 'totalTickets': 284715, 'firstWeekAmount': 23640536.0, 'totalWeekendAmount': 46626955.0}, {'movieId': '31190', 'rank': 63, 'region': '日本', 'name': '電影哆啦A夢：大雄的繪畫世界物語', 'releaseDate': '2025-07-18', 'publisher': 'TOHO CO.  LTD. ', 'dayCount': 8, 'theaterCount': 4, 'amount': 125258.0, 'amountRate': -0.305272382389156, 'tickets': 467, 'ticketRate': -0.30505952380952384, 'marketShare': 0.002076053808469588, 'totalDayCount': 77, 'totalAmount': 57973919.0, 'totalTickets': 224946, 'firstWeekAmount': 13849702.0, 'totalWeekendAmount': 38840974.0}, {'movieId': '31302', 'rank': 64, 'region': '美國', 'name': '是誰搞的鬼', 'releaseDate': '2025-07-18', 'publisher': 'SONY PICTURES RELEASING INTERNATIONAL CORPORATION.', 'dayCount': 1, 'theaterCount': 4, 'amount': 2175.0, 'amountRate': -0.641975308641975, 'tickets': 29, 'ticketRate': -0.6419753086419753, 'marketShare': 0.0024982770503101308, 'totalDayCount': 21, 'totalAmount': 2933862.0, 'totalTickets': 11608, 'firstWeekAmount': 533464.0, 'totalWeekendAmount': 1912169.0}, {'movieId': '30560', 'rank': 65, 'region': '日本', 'name': '長椅小情歌', 'releaseDate': '2025-07-18', 'publisher': 'GAGA Corporation. ', 'dayCount': 1, 'theaterCount': 1, 'amount': 8260.0, 'amountRate': -0.610927932171456, 'tickets': 34, 'ticketRate': -0.6136363636363636, 'marketShare': 0.004028913378362365, 'totalDayCount': 1, 'totalAmount': 2108186.0, 'totalTickets': 8439, 'firstWeekAmount': 440026.0, 'totalWeekendAmount': 1159509.0}, {'movieId': '31082', 'rank': 66, 'region': '美國', 'name': '地球特派員', 'releaseDate': '2025-07-02', 'publisher': 'BUENA VISTA INTERNATIONAL  INC.', 'dayCount': 1, 'theaterCount': 4, 'amount': 22200.0, 'amountRate': -0.421875, 'tickets': 111, 'ticketRate': -0.421875, 'marketShare': 0.0007889630466767597, 'totalDayCount': 25, 'totalAmount': 36468822.0, 'totalTickets': 140691, 'firstWeekAmount': 14635418.0, 'totalWeekendAmount': 23415602.0}, {'movieId': '31123', 'rank': 67, 'region': '美國', 'name': '侏羅紀世界：重生', 'releaseDate': '2025-07-01', 'publisher': 'UNIVERSAL INTERNATIONAL FILMS LLC', 'dayCount': 1, 'theaterCount': 2, 'amount': 2290.0, 'amountRate': -0.959626234132581, 'tickets': 10, 'ticketRate': -0.9638989169675091, 'marketShare': 9.497451833673026e-06, 'totalDayCount': 76, 'totalAmount': 298860288.0, 'totalTickets': 1052914, 'firstWeekAmount': 72763616.0, 'totalWeekendAmount': 184320342.0}, {'movieId': '31128', 'rank': 68, 'region': '美國', 'name': '窒友梅根 2.0', 'releaseDate': '2025-06-27', 'publisher': 'UNIVERSAL INTERNATIONAL FILMS LLC', 'dayCount': 1, 'theaterCount': 4, 'amount': 4050.0, 'amountRate': -0.805941542884523, 'tickets': 54, 'ticketRate': -0.7567567567567568, 'marketShare': 0.0011622651255892037, 'totalDayCount': 90, 'totalAmount': 12371895.0, 'totalTickets': 46461, 'firstWeekAmount': 2906473.0, 'totalWeekendAmount': 7529365.0}, {'movieId': '31013', 'rank': 69, 'region': '中華民國', 'name': '謊島美人魚', 'releaseDate': '2025-06-27', 'publisher': '英皇影業有限公司##英皇娛樂（香港）有限公司##電影夢工作室有限公司', 'dayCount': 1, 'theaterCount': 4, 'amount': 1875.0, 'amountRate': -0.479166666666667, 'tickets': 25, 'ticketRate': -0.4791666666666667, 'marketShare': 0.0641025641025641, 'totalDayCount': 1, 'totalAmount': 74937.0, 'totalTickets': 390, 'firstWeekAmount': 1630.0, 'totalWeekendAmount': 45733.0}, {'movieId': '30809', 'rank': 70, 'region': '日本', 'name': '名偵探柯南 獨眼的殘像', 'releaseDate': '2025-06-25', 'publisher': '株式会社トムス・エンタテインメント', 'dayCount': 3, 'theaterCount': 2, 'amount': 132561.0, 'amountRate': -0.54385886433551, 'tickets': 287, 'ticketRate': -0.5473186119873817, 'marketShare': 0.000367547713968478, 'totalDayCount': 52, 'totalAmount': 214597251.0, 'totalTickets': 780851, 'firstWeekAmount': 45987447.0, 'totalWeekendAmount': 121656935.0}, {'movieId': '31027', 'rank': 71, 'region': '美國', 'name': 'F1電影', 'releaseDate': '2025-06-24', 'publisher': 'WARNER BROS. PICTURES INTERNATIONAL.', 'dayCount': 41, 'theaterCount': 2, 'amount': 1271035.0, 'amountRate': -0.498608885068621, 'tickets': 3699, 'ticketRate': -0.5116831683168317, 'marketShare': 0.00212084882114863, 'totalDayCount': 92, 'totalAmount': 567235889.0, 'totalTickets': 1744113, 'firstWeekAmount': 97810583.0, 'totalWeekendAmount': 327840321.0}, {'movieId': '30960', 'rank': 72, 'region': '美國', 'name': '28年毀滅倒數', 'releaseDate': '2025-06-17', 'publisher': 'SONY PICTURES RELEASING INTERNATIONAL CORPORATION.', 'dayCount': 2, 'theaterCount': 4, 'amount': 30480.0, 'amountRate': -0.0736970065339614, 'tickets': 266, 'ticketRate': -0.09523809523809523, 'marketShare': 0.0035293493259738883, 'totalDayCount': 94, 'totalAmount': 20788921.0, 'totalTickets': 75368, 'firstWeekAmount': 5090259.0, 'totalWeekendAmount': 11659507.0}, {'movieId': '30704', 'rank': 73, 'region': '中華民國', 'name': '造山者－世紀的賭注', 'releaseDate': '2025-06-13', 'publisher': '財團法人蔣見美教授文教基金會##鴻梅文創志業股份有限公司##上善醫文化工作室##視納華仁文化傳播股份有限公司', 'dayCount': 2, 'theaterCount': 1, 'amount': 151090.0, 'amountRate': -0.745410428584668, 'tickets': 642, 'ticketRate': -0.7160548429898275, 'marketShare': 0.004828628804801552, 'totalDayCount': 12, 'totalAmount': 33147638.0, 'totalTickets': 132957, 'firstWeekAmount': 3867319.0, 'totalWeekendAmount': 20943342.0}, {'movieId': '30717', 'rank': 74, 'region': '美國', 'name': '馴龍高手', 'releaseDate': '2025-06-07', 'publisher': 'UNIVERSAL INTERNATIONAL FILMS LLC', 'dayCount': 2, 'theaterCount': 1, 'amount': 165480.0, 'amountRate': -0.644415793714746, 'tickets': 444, 'ticketRate': -0.6224489795918368, 'marketShare': 0.0010138236220903947, 'totalDayCount': 9, 'totalAmount': 131875108.0, 'totalTickets': 437946, 'firstWeekAmount': 39254728.0, 'totalWeekendAmount': 83331741.0}, {'movieId': '30833', 'rank': 75, 'region': '中華民國', 'name': '山忌 黃衣小飛俠', 'releaseDate': '2025-06-06', 'publisher': '文化內容策進院##合影視有限合夥##中華電信股份有限公司##中環國際娛樂事業股份有限公司##再現影像製作股份有限公司##聯合數位文創股份有限公司##紅衣小女孩股份有限公司', 'dayCount': 1, 'theaterCount': 4, 'amount': 3075.0, 'amountRate': -0.65546218487395, 'tickets': 41, 'ticketRate': -0.6554621848739496, 'marketShare': 0.00036856251629316004, 'totalDayCount': 44, 'totalAmount': 29529327.0, 'totalTickets': 111243, 'firstWeekAmount': 7197272.0, 'totalWeekendAmount': 19587432.0}, {'movieId': '30812', 'rank': 76, 'region': '香港', 'name': '送院途中', 'releaseDate': '2025-05-29', 'publisher': '天下一電影製作有限公司##宏寰文化傳播有限公司##樂天公關宣傳有限公司##香港電影發展基金及文創產業發展處', 'dayCount': 1, 'theaterCount': 4, 'amount': 1725.0, 'amountRate': -0.557692307692308, 'tickets': 23, 'ticketRate': -0.5576923076923077, 'marketShare': 0.015013054830287207, 'totalDayCount': 1, 'totalAmount': 305591.0, 'totalTickets': 1532, 'firstWeekAmount': 38707.0, 'totalWeekendAmount': 164734.0}, {'movieId': '30738', 'rank': 77, 'region': '美國', 'name': '星際寶貝：史迪奇', 'releaseDate': '2025-05-22', 'publisher': 'BUENA VISTA INTERNATIONAL  INC.', 'dayCount': 2, 'theaterCount': 4, 'amount': 10345.0, 'amountRate': -0.637526278906798, 'tickets': 88, 'ticketRate': -0.6286919831223629, 'marketShare': 0.00022583385300782463, 'totalDayCount': 3, 'totalAmount': 105589011.0, 'totalTickets': 389667, 'firstWeekAmount': 29536668.0, 'totalWeekendAmount': 74778790.0}, {'movieId': '30739', 'rank': 78, 'region': '美國', 'name': '不可能的任務：最終清算', 'releaseDate': '2025-05-17', 'publisher': 'PARAMOUNT PICTURES CORPORATION', 'dayCount': 1, 'theaterCount': 4, 'amount': 14330.0, 'amountRate': -0.4344909234412, 'tickets': 100, 'ticketRate': -0.43820224719101125, 'marketShare': 6.83199642549947e-05, 'totalDayCount': 7, 'totalAmount': 453024595.0, 'totalTickets': 1463701, 'firstWeekAmount': 124869365.0, 'totalWeekendAmount': 302057874.0}, {'movieId': '30699', 'rank': 79, 'region': '美國', 'name': '此刻的我們', 'releaseDate': '2025-05-16', 'publisher': 'STUDIOCANAL', 'dayCount': 1, 'theaterCount': 4, 'amount': 5700.0, 'amountRate': -0.182795698924731, 'tickets': 76, 'ticketRate': -0.1827956989247312, 'marketShare': 0.04328018223234624, 'totalDayCount': 1, 'totalAmount': 412248.0, 'totalTickets': 1756, 'firstWeekAmount': 79413.0, 'totalWeekendAmount': 231223.0}, {'movieId': '26448', 'rank': 80, 'region': '日本', 'name': '風之谷', 'releaseDate': '2025-03-06', 'publisher': 'Studio Ghibli Inc.', 'dayCount': 1, 'theaterCount': 2, 'amount': 89900.0, 'amountRate': 0, 'tickets': 306, 'ticketRate': 0, 'marketShare': 0.0019082779350686606, 'totalDayCount': 89, 'totalAmount': 43193293.0, 'totalTickets': 160354, 'firstWeekAmount': 7688656.0, 'totalWeekendAmount': 25909127.0}, {'movieId': '29081', 'rank': 81, 'region': '美國', 'name': '粗獷派建築師', 'releaseDate': '2025-02-27', 'publisher': 'UNIVERSAL INTERNATIONAL FILMS LLC', 'dayCount': 1, 'theaterCount': 1, 'amount': 30850.0, 'amountRate': 0, 'tickets': 113, 'ticketRate': 0, 'marketShare': 0.004595363969093128, 'totalDayCount': 27, 'totalAmount': 7104156.0, 'totalTickets': 24590, 'firstWeekAmount': 1688993.0, 'totalWeekendAmount': 4335869.0}, {'movieId': '29611', 'rank': 82, 'region': '中華民國', 'name': '交換禮物', 'releaseDate': '2024-12-25', 'publisher': '寬魚國際股分有限公司##六六喜喜股份有限公司##影市堂股份有限公司##文化內容策進院', 'dayCount': 1, 'theaterCount': 1, 'amount': 10350.0, 'amountRate': -0.716282894736842, 'tickets': 45, 'ticketRate': -0.7115384615384616, 'marketShare': 0.001242887919129426, 'totalDayCount': 1, 'totalAmount': 8969137.0, 'totalTickets': 36206, 'firstWeekAmount': 1339097.0, 'totalWeekendAmount': 5683685.0}, {'movieId': '27343', 'rank': 83, 'region': '美國', 'name': '帝國浩劫：美國內戰', 'releaseDate': '2024-04-29', 'publisher': 'RELAY MOTION KFT.', 'dayCount': 1, 'theaterCount': 1, 'amount': 13616.0, 'amountRate': 0, 'tickets': 45, 'ticketRate': 0, 'marketShare': 0.0005135462077465592, 'totalDayCount': 25, 'totalAmount': 22598892.0, 'totalTickets': 87626, 'firstWeekAmount': 5694457.0, 'totalWeekendAmount': 11913055.0}, {'movieId': '26514', 'rank': 84, 'region': '日本', 'name': '紅豬', 'releaseDate': '2024-01-01', 'publisher': 'Studio Ghibli Inc.', 'dayCount': 21, 'theaterCount': 4, 'amount': 94633.0, 'amountRate': -0.808247740199426, 'tickets': 363, 'ticketRate': -0.8188622754491018, 'marketShare': 0.008428140236823775, 'totalDayCount': 1, 'totalAmount': 11551539.0, 'totalTickets': 43070, 'firstWeekAmount': 0.0, 'totalWeekendAmount': 6998155.0}, {'movieId': '26305', 'rank': 85, 'region': '美國', 'name': '夢行者保羅', 'releaseDate': '2023-12-04', 'publisher': 'RELAY MOTION KFT.', 'dayCount': 1, 'theaterCount': 1, 'amount': 18000.0, 'amountRate': 0, 'tickets': 68, 'ticketRate': 0, 'marketShare': 0.006001765225066196, 'totalDayCount': 4, 'totalAmount': 2772249.0, 'totalTickets': 11330, 'firstWeekAmount': 1197989.0, 'totalWeekendAmount': 1679298.0}, {'movieId': '25045', 'rank': 86, 'region': '英國', 'name': '鬼手鬼手 請開口', 'releaseDate': '2023-08-11', 'publisher': 'Bankside Films Ltd', 'dayCount': 1, 'theaterCount': 1, 'amount': 14400.0, 'amountRate': 0, 'tickets': 53, 'ticketRate': 0, 'marketShare': 0.0018386816999132697, 'totalDayCount': 74, 'totalAmount': 7188349.0, 'totalTickets': 28825, 'firstWeekAmount': 1992904.0, 'totalWeekendAmount': 4197787.0}, {'movieId': '24089', 'rank': 87, 'region': '日本', 'name': '心之谷', 'releaseDate': '2023-04-25', 'publisher': 'SHOCHIKU CO.  LTD', 'dayCount': 1, 'theaterCount': 2, 'amount': 44020.0, 'amountRate': 0, 'tickets': 159, 'ticketRate': 0, 'marketShare': 0.002976190476190476, 'totalDayCount': 14, 'totalAmount': 14383717.0, 'totalTickets': 53424, 'firstWeekAmount': 152455.0, 'totalWeekendAmount': 9607152.0}, {'movieId': '23322', 'rank': 88, 'region': '美國', 'name': '阿凡達：水之道', 'releaseDate': '2022-12-14', 'publisher': 'BUENA VISTA INTERNATIONAL  INC.', 'dayCount': 77, 'theaterCount': 1, 'amount': 294018.0, 'amountRate': 0, 'tickets': 762, 'ticketRate': 0, 'marketShare': 0.0003401691560322884, 'totalDayCount': 4, 'totalAmount': 747349427.0, 'totalTickets': 2240062, 'firstWeekAmount': 160146501.0, 'totalWeekendAmount': 444583311.0}, {'movieId': '22962', 'rank': 89, 'region': '日本', 'name': '即使，這份戀情今晚會從世上消失', 'releaseDate': '2022-11-11', 'publisher': 'TOHO CO.  LTD.', 'dayCount': 2, 'theaterCount': 2, 'amount': 28977.0, 'amountRate': -0.246097408679363, 'tickets': 98, 'ticketRate': -0.2740740740740741, 'marketShare': 0.0018956612569394743, 'totalDayCount': 18, 'totalAmount': 13850104.0, 'totalTickets': 51697, 'firstWeekAmount': 1742831.0, 'totalWeekendAmount': 8048120.0}, {'movieId': '13460', 'rank': 90, 'region': '美國', 'name': '仲夏魘', 'releaseDate': '2019-07-12', 'publisher': 'A24 INTERNATIONAL  LLC', 'dayCount': 14, 'theaterCount': 2, 'amount': 139919.0, 'amountRate': -0.715801831701972, 'tickets': 521, 'ticketRate': -0.7197417966648736, 'marketShare': 0.03402782313369473, 'totalDayCount': 14, 'totalAmount': 3622961.0, 'totalTickets': 15311, 'firstWeekAmount': 593274.0, 'totalWeekendAmount': 2171267.0}, {'movieId': '9161', 'rank': 91, 'region': '美國', 'name': '宿怨', 'releaseDate': '2018-06-13', 'publisher': 'A24 INTERNATIONAL LLC', 'dayCount': 9, 'theaterCount': 2, 'amount': 46298.0, 'amountRate': -0.895544545520179, 'tickets': 179, 'ticketRate': -0.8778156996587031, 'marketShare': 0.0015207897911675248, 'totalDayCount': 56, 'totalAmount': 27278420.0, 'totalTickets': 117702, 'firstWeekAmount': 8076963.0, 'totalWeekendAmount': 16795844.0}, {'movieId': '6247', 'rank': 92, 'region': '中華民國', 'name': '一一', 'releaseDate': '2017-07-28', 'publisher': '(日本)OMEGA PROJECT.##(日本)PONY CANYON##(日本)HAKUHODO.', 'dayCount': 22, 'theaterCount': 2, 'amount': 530213.0, 'amountRate': -0.673424474948169, 'tickets': 1983, 'ticketRate': -0.6745445593303792, 'marketShare': 0.055468531468531465, 'totalDayCount': 22, 'totalAmount': 8749161.0, 'totalTickets': 35750, 'firstWeekAmount': 1284768.0, 'totalWeekendAmount': 4507963.0}], 'summary': {'totalCount': 92, 'totalAmount': 69163850.0, 'totalTickets': 237988}, 'ascending': False, 'orderedColumn': 'ReleaseDate'}, 'success': True, 'message': ''}\n",
      "✅ 已儲存原始資料：./../../data/raw/boxoffice/json/boxoffice_2025W40.json\n"
     ]
    }
   ],
   "source": [
    "import os\n",
    "import requests\n",
    "import json\n",
    "from datetime import datetime, timedelta\n",
    "from common.date_utils import get_last_week_range\n",
    "\n",
    "\n",
    "# RAW_PATH_JSON = \"./../../data/raw/boxoffice/json/\"\n",
    "\n",
    "# os.makedirs(RAW_PATH_JSON, exist_ok=True)\n",
    "\n",
    "\n",
    "# 取得資料\n",
    "def fetch_boxoffice_json(date_str: str):\n",
    "    print('RAW_PATH_JSON',RAW_PATH_JSON)\n",
    "    \"\"\"\n",
    "    從官方 API 下載指定週的票房資料(JSON) 並存檔\n",
    "    \"\"\"\n",
    "\n",
    "    # 取得上週起訖日期\n",
    "    date_range = get_last_week_range()\n",
    "    print(date_range)\n",
    "\n",
    "    url = \"https://boxofficetw.tfai.org.tw/stat/qsl\"\n",
    "    params = {\n",
    "        \"mode\": \"Week\",\n",
    "        \"start\": date_range['startDate'],\n",
    "        \"ascending\": \"false\",\n",
    "        \"orderedColumn\": \"ReleaseDate\",\n",
    "        \"page\": 0,\n",
    "        \"size\": \"\",  # 留空以抓全部\n",
    "        \"region\": \"all\"\n",
    "    }\n",
    "\n",
    "    print(\"params\",params)\n",
    "    response = requests.get(url, params=params)\n",
    "    response.encoding=\"utf-8\"\n",
    "\n",
    "    data = response.json()\n",
    "    print(\"data\",data)\n",
    "\n",
    "    # 檔名\n",
    "    week_label = f\"{datetime.now().strftime('%Y')}W{datetime.now().strftime('%U')}\"\n",
    "    file_path = os.path.join(RAW_PATH_JSON, f\"boxoffice_{week_label}.json\")\n",
    "\n",
    "    # 儲存原始 JSON\n",
    "    with open(file_path, \"w\", encoding=\"utf-8\") as f:\n",
    "        json.dump(data, f, ensure_ascii=False, indent=2)\n",
    "\n",
    "    print(f\"✅ 已儲存原始資料：{file_path}\")\n",
    "    # return data\n",
    "\n",
    "\n",
    "\n",
    "\n",
    "\n",
    "\n",
    "\n",
    "if __name__ == \"__main__\":\n",
    "    fetch_boxoffice_json(\"2025-10-08\")\n"
   ]
  },
  {
   "cell_type": "code",
   "execution_count": 7,
   "id": "b1624e21",
   "metadata": {},
   "outputs": [
    {
     "name": "stdout",
     "output_type": "stream",
     "text": [
      "{'startDate': '2025-09-29', 'endDate': '2025-10-05'}\n"
     ]
    }
   ],
   "source": [
    "# 取得上週一到日的起訖日期\n",
    "def get_last_week_range(reference_date: datetime = None):\n",
    "    \"\"\"\n",
    "    取得上週一到日的起訖日期\n",
    "    回傳：\n",
    "    {\n",
    "        \"startDate\": \"YYYY-MM-DD\",\n",
    "        \"endDate\":   \"YYYY-MM-DD\"\n",
    "    }\n",
    "    \"\"\"\n",
    "    if reference_date is None:\n",
    "        today = datetime.today()\n",
    "    else:\n",
    "        today = reference_date\n",
    "\n",
    "    # 計算這週的週一\n",
    "    this_monday = today - timedelta(days=today.weekday())\n",
    "    # 上週一\n",
    "    last_monday = this_monday - timedelta(weeks=1)\n",
    "    # 上週日\n",
    "    last_sunday = last_monday + timedelta(days=6)\n",
    "\n",
    "    return {\n",
    "        \"startDate\": f\"{last_monday.year}-{str(last_monday.month).zfill(2)}-{str(last_monday.day).zfill(2)}\",\n",
    "        \"endDate\": f\"{last_sunday.year}-{str(last_sunday.month).zfill(2)}-{str(last_sunday.day).zfill(2)}\"\n",
    "    }\n",
    "\n",
    "# 測試例\n",
    "print(get_last_week_range())\n",
    "# 結果：{'startDate': '2025-09-29', 'endDate': '2025-10-05'}"
   ]
  },
  {
   "cell_type": "code",
   "execution_count": null,
   "id": "f4294411",
   "metadata": {},
   "outputs": [],
   "source": [
    "# src/movie_recommendation/crawler/boxoffice_api.py\n",
    "\n",
    "import os\n",
    "import requests\n",
    "import json\n",
    "from datetime import datetime\n",
    "\n",
    "\n",
    "os.makedirs(RAW_PATH_JSON, exist_ok=True)\n",
    "\n",
    "def fetch_boxoffice_json(date_str: str):\n",
    "    \"\"\"\n",
    "    從官方 API 下載指定週的票房資料(JSON) 並存檔\n",
    "    \"\"\"\n",
    "    url = \"https://boxofficetw.tfai.org.tw/stat/qsl\"\n",
    "    params = {\n",
    "        \"mode\": \"Week\",\n",
    "        \"start\": date_str,\n",
    "        \"ascending\": \"false\",\n",
    "        \"orderedColumn\": \"ReleaseDate\",\n",
    "        \"page\": 0,\n",
    "        \"size\": \"\",  # 留空以抓全部\n",
    "        \"region\": \"all\"\n",
    "    }\n",
    "\n",
    "    response = requests.get(url, params=params)\n",
    "    response.raise_for_status()\n",
    "\n",
    "    data = response.json()\n",
    "\n",
    "    # 檔名\n",
    "    week_label = f\"{datetime.now().strftime('%Y')}W{datetime.now().strftime('%U')}\"\n",
    "    file_path = os.path.join(RAW_PATH_JSON, f\"boxoffice_{week_label}.json\")\n",
    "\n",
    "    # 儲存原始 JSON\n",
    "    with open(file_path, \"w\", encoding=\"utf-8\") as f:\n",
    "        json.dump(data, f, ensure_ascii=False, indent=2)\n",
    "\n",
    "    print(f\"✅ 已儲存原始資料：{file_path}\")\n",
    "    return data\n",
    "\n",
    "\n",
    "if __name__ == \"__main__\":\n",
    "    fetch_boxoffice_json(\"2025-10-08\")\n"
   ]
  }
 ],
 "metadata": {
  "kernelspec": {
   "display_name": ".venv",
   "language": "python",
   "name": "python3"
  },
  "language_info": {
   "codemirror_mode": {
    "name": "ipython",
    "version": 3
   },
   "file_extension": ".py",
   "mimetype": "text/x-python",
   "name": "python",
   "nbconvert_exporter": "python",
   "pygments_lexer": "ipython3",
   "version": "3.13.7"
  }
 },
 "nbformat": 4,
 "nbformat_minor": 5
}
